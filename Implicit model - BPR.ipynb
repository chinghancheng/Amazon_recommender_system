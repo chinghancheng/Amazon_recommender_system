{
 "cells": [
  {
   "cell_type": "code",
   "execution_count": 9,
   "metadata": {
    "colab": {},
    "colab_type": "code",
    "id": "tVYWkVy4gVZH"
   },
   "outputs": [],
   "source": [
    "import pandas as pd\n",
    "import numpy as np\n",
    "import json\n",
    "import torch\n",
    "import time"
   ]
  },
  {
   "cell_type": "markdown",
   "metadata": {},
   "source": [
    "Install spotlight packages"
   ]
  },
  {
   "cell_type": "code",
   "execution_count": 2,
   "metadata": {},
   "outputs": [
    {
     "name": "stdout",
     "output_type": "stream",
     "text": [
      "Requirement already satisfied: spotlight from git+https://github.com/maciejkula/spotlight.git@master#egg=spotlight in /users/msc/2413917c/.local/lib/python3.6/site-packages (0.1.5)\r\n",
      "Requirement already satisfied: torch>=0.4.0 in /usr/local/anaconda3/lib/python3.6/site-packages (from spotlight) (0.4.1)\r\n"
     ]
    }
   ],
   "source": [
    "!pip install --user git+https://github.com/maciejkula/spotlight.git@master#egg=spotlight"
   ]
  },
  {
   "cell_type": "code",
   "execution_count": 3,
   "metadata": {},
   "outputs": [
    {
     "name": "stdout",
     "output_type": "stream",
     "text": [
      "Requirement already up-to-date: pip in /users/msc/2413917c/.local/lib/python3.6/site-packages (19.2.1)\r\n"
     ]
    }
   ],
   "source": [
    "!pip install --user --upgrade pip"
   ]
  },
  {
   "cell_type": "markdown",
   "metadata": {},
   "source": [
    "Dataset could be downloaded from here: https://s3.amazonaws.com/amazon-reviews-pds/tsv/amazon_reviews_us_Electronics_v1_00.tsv.gz "
   ]
  },
  {
   "cell_type": "code",
   "execution_count": 2,
   "metadata": {
    "colab": {},
    "colab_type": "code",
    "id": "-4bx0xfygVZM",
    "outputId": "04e111de-599c-48e7-e6ce-8bc527c9d20e"
   },
   "outputs": [
    {
     "name": "stderr",
     "output_type": "stream",
     "text": [
      "b'Skipping line 9076: expected 15 fields, saw 22\\nSkipping line 19256: expected 15 fields, saw 22\\nSkipping line 24313: expected 15 fields, saw 22\\nSkipping line 47211: expected 15 fields, saw 22\\nSkipping line 54295: expected 15 fields, saw 22\\nSkipping line 56641: expected 15 fields, saw 22\\nSkipping line 63067: expected 15 fields, saw 22\\n'\n",
      "b'Skipping line 93796: expected 15 fields, saw 22\\n'\n",
      "b'Skipping line 132806: expected 15 fields, saw 22\\nSkipping line 164631: expected 15 fields, saw 22\\nSkipping line 167019: expected 15 fields, saw 22\\nSkipping line 167212: expected 15 fields, saw 22\\n'\n",
      "b'Skipping line 198103: expected 15 fields, saw 22\\nSkipping line 199191: expected 15 fields, saw 22\\nSkipping line 202841: expected 15 fields, saw 22\\nSkipping line 218228: expected 15 fields, saw 22\\nSkipping line 235900: expected 15 fields, saw 22\\n'\n",
      "b'Skipping line 277761: expected 15 fields, saw 22\\nSkipping line 304582: expected 15 fields, saw 22\\nSkipping line 312029: expected 15 fields, saw 22\\n'\n",
      "b'Skipping line 343692: expected 15 fields, saw 22\\nSkipping line 352291: expected 15 fields, saw 22\\nSkipping line 363414: expected 15 fields, saw 22\\nSkipping line 378087: expected 15 fields, saw 22\\nSkipping line 378720: expected 15 fields, saw 22\\nSkipping line 378760: expected 15 fields, saw 22\\nSkipping line 379336: expected 15 fields, saw 22\\n'\n",
      "b'Skipping line 402682: expected 15 fields, saw 22\\n'\n",
      "b'Skipping line 466560: expected 15 fields, saw 22\\nSkipping line 486823: expected 15 fields, saw 22\\nSkipping line 489036: expected 15 fields, saw 22\\nSkipping line 496148: expected 15 fields, saw 22\\nSkipping line 522330: expected 15 fields, saw 22\\n'\n",
      "b'Skipping line 552961: expected 15 fields, saw 22\\nSkipping line 577388: expected 15 fields, saw 22\\nSkipping line 582182: expected 15 fields, saw 22\\n'\n",
      "b'Skipping line 590653: expected 15 fields, saw 22\\nSkipping line 608846: expected 15 fields, saw 22\\nSkipping line 615442: expected 15 fields, saw 22\\nSkipping line 645607: expected 15 fields, saw 22\\nSkipping line 654323: expected 15 fields, saw 22\\n'\n",
      "b'Skipping line 714935: expected 15 fields, saw 22\\n'\n",
      "b'Skipping line 749608: expected 15 fields, saw 22\\nSkipping line 753868: expected 15 fields, saw 22\\nSkipping line 762504: expected 15 fields, saw 22\\nSkipping line 771706: expected 15 fields, saw 22\\nSkipping line 773376: expected 15 fields, saw 22\\n'\n",
      "b'Skipping line 792407: expected 15 fields, saw 22\\nSkipping line 793933: expected 15 fields, saw 22\\nSkipping line 813269: expected 15 fields, saw 22\\nSkipping line 835491: expected 15 fields, saw 22\\nSkipping line 841176: expected 15 fields, saw 22\\nSkipping line 844604: expected 15 fields, saw 22\\n'\n",
      "b'Skipping line 857952: expected 15 fields, saw 22\\nSkipping line 859568: expected 15 fields, saw 22\\nSkipping line 860789: expected 15 fields, saw 22\\nSkipping line 863093: expected 15 fields, saw 22\\nSkipping line 881608: expected 15 fields, saw 22\\nSkipping line 891157: expected 15 fields, saw 22\\nSkipping line 893799: expected 15 fields, saw 22\\nSkipping line 906438: expected 15 fields, saw 22\\nSkipping line 914856: expected 15 fields, saw 22\\n'\n",
      "b'Skipping line 940736: expected 15 fields, saw 22\\nSkipping line 965818: expected 15 fields, saw 22\\n'\n",
      "b'Skipping line 993840: expected 15 fields, saw 22\\nSkipping line 1019036: expected 15 fields, saw 22\\nSkipping line 1019205: expected 15 fields, saw 22\\n'\n",
      "b'Skipping line 1058122: expected 15 fields, saw 22\\n'\n",
      "b'Skipping line 1144887: expected 15 fields, saw 22\\nSkipping line 1147255: expected 15 fields, saw 22\\nSkipping line 1164497: expected 15 fields, saw 22\\nSkipping line 1166930: expected 15 fields, saw 22\\n'\n",
      "b'Skipping line 1218319: expected 15 fields, saw 22\\nSkipping line 1232868: expected 15 fields, saw 22\\n'\n",
      "b'Skipping line 1307335: expected 15 fields, saw 22\\n'\n",
      "b'Skipping line 1621422: expected 15 fields, saw 22\\n'\n",
      "b'Skipping line 1857720: expected 15 fields, saw 22\\n'\n",
      "b'Skipping line 1935753: expected 15 fields, saw 22\\n'\n",
      "b'Skipping line 1988449: expected 15 fields, saw 22\\n'\n"
     ]
    },
    {
     "data": {
      "text/html": [
       "<div>\n",
       "<style scoped>\n",
       "    .dataframe tbody tr th:only-of-type {\n",
       "        vertical-align: middle;\n",
       "    }\n",
       "\n",
       "    .dataframe tbody tr th {\n",
       "        vertical-align: top;\n",
       "    }\n",
       "\n",
       "    .dataframe thead th {\n",
       "        text-align: right;\n",
       "    }\n",
       "</style>\n",
       "<table border=\"1\" class=\"dataframe\">\n",
       "  <thead>\n",
       "    <tr style=\"text-align: right;\">\n",
       "      <th></th>\n",
       "      <th>marketplace</th>\n",
       "      <th>customer_id</th>\n",
       "      <th>review_id</th>\n",
       "      <th>product_id</th>\n",
       "      <th>product_parent</th>\n",
       "      <th>product_title</th>\n",
       "      <th>product_category</th>\n",
       "      <th>star_rating</th>\n",
       "      <th>helpful_votes</th>\n",
       "      <th>total_votes</th>\n",
       "      <th>vine</th>\n",
       "      <th>verified_purchase</th>\n",
       "      <th>review_headline</th>\n",
       "      <th>review_body</th>\n",
       "      <th>review_date</th>\n",
       "    </tr>\n",
       "  </thead>\n",
       "  <tbody>\n",
       "    <tr>\n",
       "      <th>0</th>\n",
       "      <td>US</td>\n",
       "      <td>41409413</td>\n",
       "      <td>R2MTG1GCZLR2DK</td>\n",
       "      <td>B00428R89M</td>\n",
       "      <td>112201306</td>\n",
       "      <td>yoomall 5M Antenna WIFI RP-SMA Female to Male ...</td>\n",
       "      <td>Electronics</td>\n",
       "      <td>5</td>\n",
       "      <td>0</td>\n",
       "      <td>0</td>\n",
       "      <td>N</td>\n",
       "      <td>Y</td>\n",
       "      <td>Five Stars</td>\n",
       "      <td>As described.</td>\n",
       "      <td>2015-08-31</td>\n",
       "    </tr>\n",
       "    <tr>\n",
       "      <th>1</th>\n",
       "      <td>US</td>\n",
       "      <td>49668221</td>\n",
       "      <td>R2HBOEM8LE9928</td>\n",
       "      <td>B000068O48</td>\n",
       "      <td>734576678</td>\n",
       "      <td>Hosa GPM-103 3.5mm TRS to 1/4\" TRS Adaptor</td>\n",
       "      <td>Electronics</td>\n",
       "      <td>5</td>\n",
       "      <td>0</td>\n",
       "      <td>0</td>\n",
       "      <td>N</td>\n",
       "      <td>Y</td>\n",
       "      <td>It works as advertising.</td>\n",
       "      <td>It works as advertising.</td>\n",
       "      <td>2015-08-31</td>\n",
       "    </tr>\n",
       "    <tr>\n",
       "      <th>2</th>\n",
       "      <td>US</td>\n",
       "      <td>12338275</td>\n",
       "      <td>R1P4RW1R9FDPEE</td>\n",
       "      <td>B000GGKOG8</td>\n",
       "      <td>614448099</td>\n",
       "      <td>Channel Master Titan 2 Antenna Preamplifier</td>\n",
       "      <td>Electronics</td>\n",
       "      <td>5</td>\n",
       "      <td>1</td>\n",
       "      <td>1</td>\n",
       "      <td>N</td>\n",
       "      <td>Y</td>\n",
       "      <td>Five Stars</td>\n",
       "      <td>Works pissa</td>\n",
       "      <td>2015-08-31</td>\n",
       "    </tr>\n",
       "    <tr>\n",
       "      <th>3</th>\n",
       "      <td>US</td>\n",
       "      <td>38487968</td>\n",
       "      <td>R1EBPM82ENI67M</td>\n",
       "      <td>B000NU4OTA</td>\n",
       "      <td>72265257</td>\n",
       "      <td>LIMTECH Wall charger + USB Hotsync &amp; Charging ...</td>\n",
       "      <td>Electronics</td>\n",
       "      <td>1</td>\n",
       "      <td>0</td>\n",
       "      <td>0</td>\n",
       "      <td>N</td>\n",
       "      <td>Y</td>\n",
       "      <td>One Star</td>\n",
       "      <td>Did not work at all.</td>\n",
       "      <td>2015-08-31</td>\n",
       "    </tr>\n",
       "    <tr>\n",
       "      <th>4</th>\n",
       "      <td>US</td>\n",
       "      <td>23732619</td>\n",
       "      <td>R372S58V6D11AT</td>\n",
       "      <td>B00JOQIO6S</td>\n",
       "      <td>308169188</td>\n",
       "      <td>Skullcandy Air Raid Portable Bluetooth Speaker</td>\n",
       "      <td>Electronics</td>\n",
       "      <td>5</td>\n",
       "      <td>1</td>\n",
       "      <td>1</td>\n",
       "      <td>N</td>\n",
       "      <td>Y</td>\n",
       "      <td>Overall pleased with the item</td>\n",
       "      <td>Works well. Bass is somewhat lacking but is pr...</td>\n",
       "      <td>2015-08-31</td>\n",
       "    </tr>\n",
       "  </tbody>\n",
       "</table>\n",
       "</div>"
      ],
      "text/plain": [
       "  marketplace  customer_id       review_id  product_id  product_parent  \\\n",
       "0          US     41409413  R2MTG1GCZLR2DK  B00428R89M       112201306   \n",
       "1          US     49668221  R2HBOEM8LE9928  B000068O48       734576678   \n",
       "2          US     12338275  R1P4RW1R9FDPEE  B000GGKOG8       614448099   \n",
       "3          US     38487968  R1EBPM82ENI67M  B000NU4OTA        72265257   \n",
       "4          US     23732619  R372S58V6D11AT  B00JOQIO6S       308169188   \n",
       "\n",
       "                                       product_title product_category  \\\n",
       "0  yoomall 5M Antenna WIFI RP-SMA Female to Male ...      Electronics   \n",
       "1         Hosa GPM-103 3.5mm TRS to 1/4\" TRS Adaptor      Electronics   \n",
       "2        Channel Master Titan 2 Antenna Preamplifier      Electronics   \n",
       "3  LIMTECH Wall charger + USB Hotsync & Charging ...      Electronics   \n",
       "4     Skullcandy Air Raid Portable Bluetooth Speaker      Electronics   \n",
       "\n",
       "   star_rating  helpful_votes  total_votes vine verified_purchase  \\\n",
       "0            5              0            0    N                 Y   \n",
       "1            5              0            0    N                 Y   \n",
       "2            5              1            1    N                 Y   \n",
       "3            1              0            0    N                 Y   \n",
       "4            5              1            1    N                 Y   \n",
       "\n",
       "                 review_headline  \\\n",
       "0                     Five Stars   \n",
       "1       It works as advertising.   \n",
       "2                     Five Stars   \n",
       "3                       One Star   \n",
       "4  Overall pleased with the item   \n",
       "\n",
       "                                         review_body review_date  \n",
       "0                                      As described.  2015-08-31  \n",
       "1                           It works as advertising.  2015-08-31  \n",
       "2                                        Works pissa  2015-08-31  \n",
       "3                               Did not work at all.  2015-08-31  \n",
       "4  Works well. Bass is somewhat lacking but is pr...  2015-08-31  "
      ]
     },
     "execution_count": 2,
     "metadata": {},
     "output_type": "execute_result"
    }
   ],
   "source": [
    "df = pd.read_csv('amazon_reviews_us_Electronics_v1_00.tsv.gz', delimiter='\\t',error_bad_lines=False)\n",
    "df.head()"
   ]
  },
  {
   "cell_type": "code",
   "execution_count": 61,
   "metadata": {
    "colab": {},
    "colab_type": "code",
    "id": "OC0CW958gVZS",
    "outputId": "cbb0faa7-2b31-4c0b-90b1-77fc13d0717f"
   },
   "outputs": [
    {
     "data": {
      "text/plain": [
       "marketplace          3091024\n",
       "customer_id          3091024\n",
       "review_id            3091024\n",
       "product_id           3091024\n",
       "product_parent       3091024\n",
       "product_title        3091020\n",
       "product_category     3091024\n",
       "star_rating          3091024\n",
       "helpful_votes        3091024\n",
       "total_votes          3091024\n",
       "vine                 3091024\n",
       "verified_purchase    3091024\n",
       "review_headline      3090993\n",
       "review_body          3090936\n",
       "review_date          3091000\n",
       "dtype: int64"
      ]
     },
     "execution_count": 61,
     "metadata": {},
     "output_type": "execute_result"
    }
   ],
   "source": [
    "df1 = df.copy()\n",
    "df1.count()"
   ]
  },
  {
   "cell_type": "code",
   "execution_count": 62,
   "metadata": {},
   "outputs": [
    {
     "data": {
      "text/plain": [
       "marketplace          3090996\n",
       "customer_id          3090996\n",
       "review_id            3090996\n",
       "product_id           3090996\n",
       "product_parent       3090996\n",
       "product_title        3090996\n",
       "product_category     3090996\n",
       "star_rating          3090996\n",
       "helpful_votes        3090996\n",
       "total_votes          3090996\n",
       "vine                 3090996\n",
       "verified_purchase    3090996\n",
       "review_headline      3090965\n",
       "review_body          3090908\n",
       "review_date          3090996\n",
       "dtype: int64"
      ]
     },
     "execution_count": 62,
     "metadata": {},
     "output_type": "execute_result"
    }
   ],
   "source": [
    "df1 = df1[df1.review_date.notnull()]\n",
    "df1 = df1[df1.product_title.notnull()]\n",
    "df1 = df1[df1.product_id.notnull()]\n",
    "df1 = df1[df1.customer_id.notnull()]\n",
    "df1.count()"
   ]
  },
  {
   "cell_type": "code",
   "execution_count": 5,
   "metadata": {},
   "outputs": [
    {
     "name": "stdout",
     "output_type": "stream",
     "text": [
      "<class 'pandas.core.frame.DataFrame'>\n",
      "Int64Index: 3090996 entries, 0 to 3091023\n",
      "Data columns (total 15 columns):\n",
      "marketplace          object\n",
      "customer_id          int64\n",
      "review_id            object\n",
      "product_id           object\n",
      "product_parent       int64\n",
      "product_title        object\n",
      "product_category     object\n",
      "star_rating          int64\n",
      "helpful_votes        int64\n",
      "total_votes          int64\n",
      "vine                 object\n",
      "verified_purchase    object\n",
      "review_headline      object\n",
      "review_body          object\n",
      "review_date          object\n",
      "dtypes: int64(5), object(10)\n",
      "memory usage: 377.3+ MB\n"
     ]
    }
   ],
   "source": [
    "df1.info()"
   ]
  },
  {
   "cell_type": "code",
   "execution_count": 63,
   "metadata": {},
   "outputs": [],
   "source": [
    "df1['review_date'] = pd.to_datetime(df1['review_date']).dt.strftime(\"%Y%m%d\")"
   ]
  },
  {
   "cell_type": "code",
   "execution_count": 65,
   "metadata": {},
   "outputs": [
    {
     "name": "stdout",
     "output_type": "stream",
     "text": [
      "100\n",
      "34038\n"
     ]
    }
   ],
   "source": [
    "min_r = 1850\n",
    "min_c = 5\n",
    "num_review = df1[['product_id']].groupby(df1['product_id']).count()\n",
    "num_customer = df1[['customer_id']].groupby(df1['customer_id']).count()\n",
    "print(len(np.where(num_review>min_r)[0]))\n",
    "# print(len(num_review))\n",
    "print(len(np.where(num_customer>min_c)[0]))\n",
    "# a = np.where(num_review>min_r)[0] \n",
    "# b = np.where(num_customer>min_c)[0]\n",
    "customer = num_customer.index[np.where( df1[['customer_id']].groupby(df1['customer_id']).count()>min_c)[0]]\n",
    "# print(len(customer))\n",
    "item = num_review.index[np.where(df1[['product_id']].groupby(df1['product_id']).count()>min_r)[0]]\n",
    "# print(len(item))"
   ]
  },
  {
   "cell_type": "code",
   "execution_count": 66,
   "metadata": {},
   "outputs": [
    {
     "name": "stdout",
     "output_type": "stream",
     "text": [
      "Data processing cost 80 seconds\n"
     ]
    }
   ],
   "source": [
    "start = time.time()\n",
    "df2 =  pd.DataFrame( columns = df1.columns) \n",
    "for i in range(len(item)):\n",
    "    df2 = df2.append(df1[df1['product_id']==item[i]])\n",
    "end = time.time()\n",
    "diff = end-start\n",
    "print('Data processing cost %d seconds' % (diff))"
   ]
  },
  {
   "cell_type": "code",
   "execution_count": 67,
   "metadata": {},
   "outputs": [
    {
     "data": {
      "text/plain": [
       "marketplace          347053\n",
       "customer_id          347053\n",
       "review_id            347053\n",
       "product_id           347053\n",
       "product_parent       347053\n",
       "product_title        347053\n",
       "product_category     347053\n",
       "star_rating          347053\n",
       "helpful_votes        347053\n",
       "total_votes          347053\n",
       "vine                 347053\n",
       "verified_purchase    347053\n",
       "review_headline      347051\n",
       "review_body          347048\n",
       "review_date          347053\n",
       "dtype: int64"
      ]
     },
     "execution_count": 67,
     "metadata": {},
     "output_type": "execute_result"
    }
   ],
   "source": [
    "df2.count()"
   ]
  },
  {
   "cell_type": "code",
   "execution_count": 68,
   "metadata": {},
   "outputs": [
    {
     "name": "stdout",
     "output_type": "stream",
     "text": [
      "             star_rating\n",
      "star_rating             \n",
      "1                  23485\n",
      "2                  14791\n",
      "3                  21747\n",
      "4                  55765\n",
      "5                 231265\n"
     ]
    },
    {
     "data": {
      "text/plain": [
       "star_rating    14791\n",
       "dtype: int64"
      ]
     },
     "execution_count": 68,
     "metadata": {},
     "output_type": "execute_result"
    }
   ],
   "source": [
    "print(df2[['star_rating']].groupby(df2['star_rating']).count())\n",
    "np.min(df2[['star_rating']].groupby(df2['star_rating']).count())"
   ]
  },
  {
   "cell_type": "code",
   "execution_count": 69,
   "metadata": {},
   "outputs": [],
   "source": [
    "from spotlight.sampling import sample_items\n",
    "df_g1 =  pd.DataFrame( columns = df1.columns) \n",
    "num_sample = np.min(df2[['star_rating']].groupby(df2['star_rating']).count())\n",
    "for i in range(len(df2['star_rating'].unique())):\n",
    "    df_g1 =  df_g1.append(df2[df2['star_rating']==i+1].sample(10000, random_state=1))\n",
    "# df2"
   ]
  },
  {
   "cell_type": "code",
   "execution_count": 70,
   "metadata": {},
   "outputs": [
    {
     "data": {
      "text/html": [
       "<div>\n",
       "<style scoped>\n",
       "    .dataframe tbody tr th:only-of-type {\n",
       "        vertical-align: middle;\n",
       "    }\n",
       "\n",
       "    .dataframe tbody tr th {\n",
       "        vertical-align: top;\n",
       "    }\n",
       "\n",
       "    .dataframe thead th {\n",
       "        text-align: right;\n",
       "    }\n",
       "</style>\n",
       "<table border=\"1\" class=\"dataframe\">\n",
       "  <thead>\n",
       "    <tr style=\"text-align: right;\">\n",
       "      <th></th>\n",
       "      <th>star_rating</th>\n",
       "    </tr>\n",
       "    <tr>\n",
       "      <th>star_rating</th>\n",
       "      <th></th>\n",
       "    </tr>\n",
       "  </thead>\n",
       "  <tbody>\n",
       "    <tr>\n",
       "      <th>1</th>\n",
       "      <td>10000</td>\n",
       "    </tr>\n",
       "    <tr>\n",
       "      <th>2</th>\n",
       "      <td>10000</td>\n",
       "    </tr>\n",
       "    <tr>\n",
       "      <th>3</th>\n",
       "      <td>10000</td>\n",
       "    </tr>\n",
       "    <tr>\n",
       "      <th>4</th>\n",
       "      <td>10000</td>\n",
       "    </tr>\n",
       "    <tr>\n",
       "      <th>5</th>\n",
       "      <td>10000</td>\n",
       "    </tr>\n",
       "  </tbody>\n",
       "</table>\n",
       "</div>"
      ],
      "text/plain": [
       "             star_rating\n",
       "star_rating             \n",
       "1                  10000\n",
       "2                  10000\n",
       "3                  10000\n",
       "4                  10000\n",
       "5                  10000"
      ]
     },
     "execution_count": 70,
     "metadata": {},
     "output_type": "execute_result"
    }
   ],
   "source": [
    "df_g1[['star_rating']].groupby(df_g1['star_rating']).count()"
   ]
  },
  {
   "cell_type": "code",
   "execution_count": 71,
   "metadata": {},
   "outputs": [],
   "source": [
    "df1 = df_g1"
   ]
  },
  {
   "cell_type": "code",
   "execution_count": 33,
   "metadata": {},
   "outputs": [],
   "source": [
    "from spotlight.sampling import sample_items\n",
    "df1 = df1.sample(30000, random_state=1)"
   ]
  },
  {
   "cell_type": "code",
   "execution_count": 72,
   "metadata": {},
   "outputs": [
    {
     "data": {
      "text/plain": [
       "marketplace          50000\n",
       "customer_id          50000\n",
       "review_id            50000\n",
       "product_id           50000\n",
       "product_parent       50000\n",
       "product_title        50000\n",
       "product_category     50000\n",
       "star_rating          50000\n",
       "helpful_votes        50000\n",
       "total_votes          50000\n",
       "vine                 50000\n",
       "verified_purchase    50000\n",
       "review_headline      49998\n",
       "review_body          49999\n",
       "review_date          50000\n",
       "dtype: int64"
      ]
     },
     "execution_count": 72,
     "metadata": {},
     "output_type": "execute_result"
    }
   ],
   "source": [
    "# def frac(dataframe, fraction, other_info=None):\n",
    "#     \"\"\"Returns fraction of data\"\"\"\n",
    "#     return dataframe.sample(frac=fraction)\n",
    "# df1 = frac(df1, 0.1)\n",
    "df1.count()"
   ]
  },
  {
   "cell_type": "code",
   "execution_count": 73,
   "metadata": {
    "colab": {},
    "colab_type": "code",
    "id": "4wplrje5gVZW",
    "outputId": "9a1f2b7a-3980-4640-8d14-d5ea52fb7333"
   },
   "outputs": [
    {
     "name": "stdout",
     "output_type": "stream",
     "text": [
      "product_id    500.0\n",
      "dtype: float64\n",
      "customer_id    1.014755\n",
      "dtype: float64\n",
      "star_rating    3.0\n",
      "dtype: float64\n"
     ]
    }
   ],
   "source": [
    "# print(df[['product_id']].groupby(df['product_id']).count())\n",
    "# mean of goup by item\n",
    "print(df1[['product_id']].groupby(df1['product_id']).count().mean())\n",
    "# print(df[['customer_id']].groupby(df['customer_id']).count())\n",
    "# mean of goup by user\n",
    "print(df1[['customer_id']].groupby(df['customer_id']).count().mean())\n",
    "print(df1[['star_rating']].astype('int').mean())"
   ]
  },
  {
   "cell_type": "code",
   "execution_count": 74,
   "metadata": {},
   "outputs": [
    {
     "name": "stdout",
     "output_type": "stream",
     "text": [
      "100\n",
      "49273\n"
     ]
    }
   ],
   "source": [
    "print(len(df1['product_id'].unique().tolist()))\n",
    "print(len(df1['customer_id'].unique().tolist()))"
   ]
  },
  {
   "cell_type": "code",
   "execution_count": 75,
   "metadata": {
    "colab": {},
    "colab_type": "code",
    "id": "YZ_uwhPcgVZa",
    "outputId": "c3736034-9af1-46f9-8ae2-99984c6886f0"
   },
   "outputs": [
    {
     "name": "stdout",
     "output_type": "stream",
     "text": [
      "userId 41409413 got uid 49273\n",
      "itemId B00428R89M got iid 100\n"
     ]
    }
   ],
   "source": [
    "from collections import defaultdict\n",
    "from itertools import count\n",
    "\n",
    "uid_map = defaultdict(count().__next__)\n",
    "iid_map = defaultdict(count().__next__)\n",
    "uids = np.array([uid_map[uid] for uid in df1[\"customer_id\"].values ], dtype=np.int32)\n",
    "iids = np.array([iid_map[iid] for iid in df1[\"product_id\"].values], dtype=np.int32)\n",
    "\n",
    "uid_rev_map = {v: k for k, v in uid_map.items()}\n",
    "iid_rev_map = {v: k for k, v in iid_map.items()}\n",
    "\n",
    "ratings = df1[\"star_rating\"].values.astype(np.float32)\n",
    "timestamps = df1[\"review_date\"].values.astype(np.object)\n",
    "\n",
    "print(\"userId %d got uid %d\" % (41409413, uid_map[41409413]))\n",
    "print(\"itemId %s got iid %s\" % ('B00428R89M', iid_map['B00428R89M']))"
   ]
  },
  {
   "cell_type": "code",
   "execution_count": 76,
   "metadata": {},
   "outputs": [],
   "source": [
    "from spotlight.cross_validation import user_based_train_test_split\n",
    "from spotlight.datasets.synthetic import generate_sequential\n",
    "from spotlight.evaluation import sequence_mrr_score\n",
    "from spotlight.sequence.implicit import ImplicitSequenceModel\n",
    "from spotlight.interactions import Interactions\n",
    "from spotlight.cross_validation import random_train_test_split\n",
    "imp_dataset = Interactions(user_ids=uids, item_ids=iids, num_users=len(uid_map), num_items=len(iid_rev_map))"
   ]
  },
  {
   "cell_type": "code",
   "execution_count": 77,
   "metadata": {},
   "outputs": [
    {
     "name": "stdout",
     "output_type": "stream",
     "text": [
      "<Interactions dataset (49274 users x 100 items x 40000 interactions)>\n",
      "<Interactions dataset (49274 users x 100 items x 10000 interactions)>\n"
     ]
    }
   ],
   "source": [
    "## from spotlight.cross_validation import random_train_test_split\n",
    "\n",
    "itrain, itest = random_train_test_split(imp_dataset, test_percentage=0.2,random_state=np.random.seed(42))\n",
    "print(itrain)\n",
    "print(itest)"
   ]
  },
  {
   "cell_type": "code",
   "execution_count": 84,
   "metadata": {
    "scrolled": true
   },
   "outputs": [
    {
     "name": "stdout",
     "output_type": "stream",
     "text": [
      "Epoch 0: loss 0.49220143453762555\n",
      "Epoch 1: loss 0.46912828344887436\n",
      "Epoch 2: loss 0.40346176308184006\n",
      "Epoch 3: loss 0.28457751460730457\n",
      "Epoch 4: loss 0.17234759708753408\n",
      "Epoch 5: loss 0.09797628978475595\n",
      "Epoch 6: loss 0.05706079447040924\n",
      "Epoch 7: loss 0.0358389283592899\n",
      "Epoch 8: loss 0.024172786533975373\n",
      "Epoch 9: loss 0.01791081481431715\n",
      "Epoch 10: loss 0.014072929209949205\n",
      "Epoch 11: loss 0.011576056034086991\n",
      "Epoch 12: loss 0.010590606199476285\n",
      "Epoch 13: loss 0.009065603246739783\n",
      "Epoch 14: loss 0.007845594543225753\n",
      "Epoch 15: loss 0.007530503095493625\n",
      "Epoch 16: loss 0.0069895239142230906\n",
      "Epoch 17: loss 0.006287467451736379\n",
      "Epoch 18: loss 0.005869459454565288\n",
      "Epoch 19: loss 0.006208436658826118\n",
      "Epoch 20: loss 0.006000909570473642\n",
      "Epoch 21: loss 0.006122304302173111\n",
      "Epoch 22: loss 0.005474632050984869\n",
      "Epoch 23: loss 0.005646059276185001\n",
      "Epoch 24: loss 0.0054816739401592615\n",
      "Epoch 25: loss 0.005250099275749141\n",
      "Epoch 26: loss 0.0057411949855451\n",
      "Epoch 27: loss 0.0052924305989076725\n",
      "Epoch 28: loss 0.005219062531408601\n",
      "Epoch 29: loss 0.004868992788794513\n",
      "Epoch 30: loss 0.005461152364758733\n",
      "Epoch 31: loss 0.004996808637052584\n",
      "Epoch 32: loss 0.005405955361767699\n",
      "Epoch 33: loss 0.005322054010658219\n",
      "Epoch 34: loss 0.005451992993204357\n",
      "Epoch 35: loss 0.005187626801633511\n",
      "Epoch 36: loss 0.005359938461928607\n",
      "Epoch 37: loss 0.005278595439054239\n",
      "Epoch 38: loss 0.00572822389368432\n",
      "Epoch 39: loss 0.004841133471602164\n",
      "Epoch 40: loss 0.005364558330704324\n",
      "Epoch 41: loss 0.005014909824100546\n",
      "Epoch 42: loss 0.00491725860205226\n",
      "Epoch 43: loss 0.005645157190593192\n",
      "Epoch 44: loss 0.00519694271274268\n",
      "Epoch 45: loss 0.004971101810149967\n",
      "Epoch 46: loss 0.005199231071986806\n",
      "Epoch 47: loss 0.00498344654889819\n",
      "Epoch 48: loss 0.005217493252870374\n",
      "Epoch 49: loss 0.0047654946477482685\n",
      "Epoch 50: loss 0.005272616766178951\n",
      "Epoch 51: loss 0.004906042559316364\n",
      "Epoch 52: loss 0.005514108843672961\n",
      "Epoch 53: loss 0.005246286463444701\n",
      "Epoch 54: loss 0.005157377686910926\n",
      "Epoch 55: loss 0.005220458885958305\n",
      "Epoch 56: loss 0.0049215804476041005\n",
      "Epoch 57: loss 0.004948421888731825\n",
      "Epoch 58: loss 0.005345360295603069\n",
      "Epoch 59: loss 0.005119797849533752\n",
      "Epoch 60: loss 0.004784676341560131\n",
      "Epoch 61: loss 0.005357627624485154\n",
      "Epoch 62: loss 0.005548874362589071\n",
      "Epoch 63: loss 0.005432406416573464\n",
      "Epoch 64: loss 0.0050318419766692685\n",
      "Epoch 65: loss 0.005497743865064443\n",
      "Epoch 66: loss 0.00509907589695705\n",
      "Epoch 67: loss 0.004852542368034585\n",
      "Epoch 68: loss 0.005407152734637355\n",
      "Epoch 69: loss 0.005065341506855557\n",
      "Epoch 70: loss 0.005258134746263488\n",
      "Epoch 71: loss 0.004962576585955704\n",
      "Epoch 72: loss 0.005567457599821277\n",
      "Epoch 73: loss 0.004915293694411318\n",
      "Epoch 74: loss 0.005028368208926326\n",
      "Epoch 75: loss 0.004991179681755008\n",
      "Epoch 76: loss 0.005337405354736712\n",
      "Epoch 77: loss 0.0048781350008048376\n",
      "Epoch 78: loss 0.005154911770869177\n",
      "Epoch 79: loss 0.005631477979663462\n",
      "Epoch 80: loss 0.004908356271065272\n",
      "Epoch 81: loss 0.00520206434271349\n",
      "Epoch 82: loss 0.005016728209111447\n",
      "Epoch 83: loss 0.005056694798623792\n",
      "Epoch 84: loss 0.00506217257616619\n",
      "Epoch 85: loss 0.005308071681009695\n",
      "Epoch 86: loss 0.0051564701636449784\n",
      "Epoch 87: loss 0.004812399846332046\n",
      "Epoch 88: loss 0.00491199277329464\n",
      "Epoch 89: loss 0.005279359410698421\n",
      "Epoch 90: loss 0.005323783620989646\n",
      "Epoch 91: loss 0.004716317584446539\n",
      "Epoch 92: loss 0.005168726057790149\n",
      "Epoch 93: loss 0.0048334570095752375\n",
      "Epoch 94: loss 0.005081550313380008\n",
      "Epoch 95: loss 0.005040364836851438\n",
      "Epoch 96: loss 0.004894190781806319\n",
      "Epoch 97: loss 0.005159814566814195\n",
      "Epoch 98: loss 0.0046907252893923\n",
      "Epoch 99: loss 0.0051382245739904076\n",
      "Epoch 100: loss 0.004962255400174057\n",
      "Epoch 101: loss 0.005079619665317737\n",
      "Epoch 102: loss 0.005084327378938088\n",
      "Epoch 103: loss 0.005138794248834395\n",
      "Epoch 104: loss 0.004883788765583651\n",
      "Epoch 105: loss 0.0051001330165150825\n",
      "Epoch 106: loss 0.005483902654589746\n",
      "Epoch 107: loss 0.005007732183502886\n",
      "Epoch 108: loss 0.004936934048577714\n",
      "Epoch 109: loss 0.005308017558671129\n",
      "Epoch 110: loss 0.005356284462439176\n",
      "Epoch 111: loss 0.005017322796090438\n",
      "Epoch 112: loss 0.005093166299652272\n",
      "Epoch 113: loss 0.00510815154023159\n",
      "Epoch 114: loss 0.005479246305045895\n",
      "Epoch 115: loss 0.005125026356952544\n",
      "Epoch 116: loss 0.005509350303048714\n",
      "Epoch 117: loss 0.005316963795715342\n",
      "Epoch 118: loss 0.0050949886435279835\n",
      "Epoch 119: loss 0.005219344156809127\n",
      "Epoch 120: loss 0.005766881506342572\n",
      "Epoch 121: loss 0.004953483253503189\n",
      "Epoch 122: loss 0.004878093815816287\n",
      "Epoch 123: loss 0.0048925528115334035\n",
      "Epoch 124: loss 0.004903186038255501\n",
      "Epoch 125: loss 0.005022198045120453\n",
      "Epoch 126: loss 0.004888799223013389\n",
      "Epoch 127: loss 0.005351902640308625\n",
      "Epoch 128: loss 0.00495483225639969\n",
      "Epoch 129: loss 0.004794911646578735\n",
      "Epoch 130: loss 0.005430071979177931\n",
      "Epoch 131: loss 0.004692764844174107\n",
      "Epoch 132: loss 0.005386977721327029\n",
      "Epoch 133: loss 0.00530818603879299\n",
      "Epoch 134: loss 0.005570119818131002\n",
      "Epoch 135: loss 0.00501641317660483\n",
      "Epoch 136: loss 0.005203763234277312\n",
      "Epoch 137: loss 0.005211474370961182\n",
      "Epoch 138: loss 0.0048291702939274785\n",
      "Epoch 139: loss 0.005302959114325027\n",
      "Epoch 140: loss 0.005239255644511967\n",
      "Epoch 141: loss 0.005085424847377185\n",
      "Epoch 142: loss 0.0051267786909596985\n",
      "Epoch 143: loss 0.004534034134326175\n",
      "Epoch 144: loss 0.0050326540363958465\n",
      "Epoch 145: loss 0.004742680897061436\n",
      "Epoch 146: loss 0.0050566304198350195\n",
      "Epoch 147: loss 0.005217697533865135\n",
      "Epoch 148: loss 0.004631282959561855\n",
      "Epoch 149: loss 0.004968777468529181\n",
      "Epoch 150: loss 0.005646367149707228\n",
      "Epoch 151: loss 0.004867402232659701\n",
      "Epoch 152: loss 0.005871651343072946\n",
      "Epoch 153: loss 0.005204892026992461\n",
      "Epoch 154: loss 0.005067460793858995\n",
      "Epoch 155: loss 0.005468306457475066\n",
      "Epoch 156: loss 0.005264881435936442\n",
      "Epoch 157: loss 0.005524997606861611\n",
      "Epoch 158: loss 0.0048640565009424675\n",
      "Epoch 159: loss 0.005029374264930479\n",
      "Epoch 160: loss 0.005011904532440935\n",
      "Epoch 161: loss 0.004663968748880175\n",
      "Epoch 162: loss 0.005522126874948938\n",
      "Epoch 163: loss 0.005190736263062055\n",
      "Epoch 164: loss 0.005407255766288446\n",
      "Epoch 165: loss 0.005362516438689666\n",
      "Epoch 166: loss 0.005204017857274118\n",
      "Epoch 167: loss 0.00502860388709619\n",
      "Epoch 168: loss 0.005201753940040502\n",
      "Epoch 169: loss 0.004805491420443351\n",
      "Epoch 170: loss 0.004929636167689634\n",
      "Epoch 171: loss 0.005025590600344701\n",
      "Epoch 172: loss 0.005169828847859995\n",
      "Epoch 173: loss 0.005011360696591318\n",
      "Epoch 174: loss 0.0050892375555401225\n",
      "Epoch 175: loss 0.004958477143507701\n",
      "Epoch 176: loss 0.0057148741150554565\n",
      "Epoch 177: loss 0.005750569866035883\n",
      "Epoch 178: loss 0.004907172859107819\n",
      "Epoch 179: loss 0.0052794496537730716\n",
      "Epoch 180: loss 0.005081721414892247\n",
      "Epoch 181: loss 0.0049895827476970685\n",
      "Epoch 182: loss 0.0051516245443600055\n",
      "Epoch 183: loss 0.005053703195620745\n",
      "Epoch 184: loss 0.005071930612583225\n",
      "Epoch 185: loss 0.005377162902499921\n",
      "Epoch 186: loss 0.00480155106901694\n",
      "Epoch 187: loss 0.005000595827572072\n",
      "Epoch 188: loss 0.005060750541809839\n",
      "Epoch 189: loss 0.004860423493404358\n",
      "Epoch 190: loss 0.005061412899615095\n",
      "Epoch 191: loss 0.005161250895335557\n",
      "Epoch 192: loss 0.005086655865390651\n",
      "Epoch 193: loss 0.005418739461610778\n",
      "Epoch 194: loss 0.0053300479376397\n",
      "Epoch 195: loss 0.005007261565080085\n",
      "Epoch 196: loss 0.004959252349044473\n",
      "Epoch 197: loss 0.004870129118378932\n",
      "Epoch 198: loss 0.005225048983654085\n",
      "Epoch 199: loss 0.005435457616782607\n",
      "Epoch 200: loss 0.00500299150463396\n",
      "Epoch 201: loss 0.005095856323743019\n",
      "Epoch 202: loss 0.005035956716016173\n",
      "Epoch 203: loss 0.004845957627323584\n",
      "Epoch 204: loss 0.004950881763078724\n",
      "Epoch 205: loss 0.005114234440897505\n",
      "Epoch 206: loss 0.005001310150499066\n",
      "Epoch 207: loss 0.005353317005387224\n",
      "Epoch 208: loss 0.004939989825062002\n",
      "Epoch 209: loss 0.005037786744046992\n",
      "Epoch 210: loss 0.005398165172757432\n",
      "Epoch 211: loss 0.004917755627784485\n",
      "Epoch 212: loss 0.005277825876499136\n",
      "Epoch 213: loss 0.004835406133827691\n",
      "Epoch 214: loss 0.004976489398176202\n",
      "Epoch 215: loss 0.00499612471303001\n",
      "Epoch 216: loss 0.005092562122728688\n",
      "Epoch 217: loss 0.005195888166967482\n",
      "Epoch 218: loss 0.005294324395755609\n",
      "Epoch 219: loss 0.005120050901481614\n",
      "Epoch 220: loss 0.005216143049371128\n",
      "Epoch 221: loss 0.0053865935834951865\n",
      "Epoch 222: loss 0.004909635926135622\n",
      "Epoch 223: loss 0.005408509375569158\n"
     ]
    },
    {
     "name": "stdout",
     "output_type": "stream",
     "text": [
      "Epoch 224: loss 0.005067498411257237\n",
      "Epoch 225: loss 0.005395823021452076\n",
      "Epoch 226: loss 0.004970701826444735\n",
      "Epoch 227: loss 0.005036085338209765\n",
      "Epoch 228: loss 0.005057926728619268\n",
      "Epoch 229: loss 0.005286476016937258\n",
      "Epoch 230: loss 0.004703882874879307\n",
      "Epoch 231: loss 0.0050728164550762015\n",
      "Epoch 232: loss 0.005385942655963639\n",
      "Epoch 233: loss 0.0048752460396661165\n",
      "Epoch 234: loss 0.005196078359104764\n",
      "Epoch 235: loss 0.0050430031026157136\n",
      "Epoch 236: loss 0.004906238303683436\n",
      "Epoch 237: loss 0.005726120730760856\n",
      "Epoch 238: loss 0.0050761130290290415\n",
      "Epoch 239: loss 0.004926035826365216\n",
      "Epoch 240: loss 0.005336795195627708\n",
      "Epoch 241: loss 0.00560249381225568\n",
      "Epoch 242: loss 0.004919940900331298\n",
      "Epoch 243: loss 0.005277552234288603\n",
      "Epoch 244: loss 0.004762022851255184\n",
      "Epoch 245: loss 0.004972886198911423\n",
      "Epoch 246: loss 0.0049443478121782266\n",
      "Epoch 247: loss 0.00511426068009279\n",
      "Epoch 248: loss 0.005399866011767342\n",
      "Epoch 249: loss 0.005262793247073222\n",
      "Epoch 250: loss 0.0055847307830787125\n",
      "Epoch 251: loss 0.005456437959303014\n",
      "Epoch 252: loss 0.005274526216982367\n",
      "Epoch 253: loss 0.004829508555939974\n",
      "Epoch 254: loss 0.005256457135271722\n",
      "Epoch 255: loss 0.0056457637493817\n",
      "Epoch 256: loss 0.005012599858470237\n",
      "Epoch 257: loss 0.00540807944523117\n",
      "Epoch 258: loss 0.004697596935477976\n",
      "Epoch 259: loss 0.005117293286580628\n",
      "Epoch 260: loss 0.005040117920325778\n",
      "Epoch 261: loss 0.005295248977399577\n",
      "Epoch 262: loss 0.005219428432575716\n",
      "Epoch 263: loss 0.00535725349762712\n",
      "Epoch 264: loss 0.005243837812576241\n",
      "Epoch 265: loss 0.005110363492343468\n",
      "Epoch 266: loss 0.0048267218751457935\n",
      "Epoch 267: loss 0.005377109204166042\n",
      "Epoch 268: loss 0.004711485470826633\n",
      "Epoch 269: loss 0.005471830061389901\n",
      "Epoch 270: loss 0.004266032260268355\n",
      "Epoch 271: loss 0.005346345365606843\n",
      "Epoch 272: loss 0.004934445576974378\n",
      "Epoch 273: loss 0.004957996807195032\n",
      "Epoch 274: loss 0.005211744207543687\n",
      "Epoch 275: loss 0.004766292609690953\n",
      "Epoch 276: loss 0.005260141494984444\n",
      "Epoch 277: loss 0.005257494447116083\n",
      "Epoch 278: loss 0.004848196101300537\n",
      "Epoch 279: loss 0.005098658674857773\n",
      "Epoch 280: loss 0.004958745904457265\n",
      "Epoch 281: loss 0.005670372529116016\n",
      "Epoch 282: loss 0.0048989254249313385\n",
      "Epoch 283: loss 0.005491973729595875\n",
      "Epoch 284: loss 0.00555639419877253\n",
      "Epoch 285: loss 0.004981504701161251\n",
      "Epoch 286: loss 0.004900332665243469\n",
      "Epoch 287: loss 0.00500097097650456\n",
      "Epoch 288: loss 0.004956030658782481\n",
      "Epoch 289: loss 0.004786856253795064\n",
      "Epoch 290: loss 0.00519001200652351\n",
      "Epoch 291: loss 0.004657645989506961\n",
      "Epoch 292: loss 0.004723399533881261\n",
      "Epoch 293: loss 0.005514645530952337\n",
      "Epoch 294: loss 0.005284249438895299\n",
      "Epoch 295: loss 0.005077297174440215\n",
      "Epoch 296: loss 0.005292441515912549\n",
      "Epoch 297: loss 0.005587169062941314\n",
      "Epoch 298: loss 0.005083285032595975\n",
      "Epoch 299: loss 0.00520361202974289\n",
      "Training took 5545 seconds\n"
     ]
    }
   ],
   "source": [
    "from spotlight.factorization.implicit import ImplicitFactorizationModel\n",
    "import time  \n",
    "\n",
    "imodel = ImplicitFactorizationModel(loss='bpr',\n",
    "                                    batch_size = 128,\n",
    "                                    n_iter = 300, #bpr default but could take a long time\n",
    "                                    embedding_dim = 64,\n",
    "                                    l2=1e-9,  # strength of L2 regularization\n",
    "                                    learning_rate=1e-3,)\n",
    "current = time.time()\n",
    "\n",
    "imodel.fit(itrain, verbose=True)\n",
    "end = time.time()\n",
    "diff = end - current\n",
    "print(\"Training took %d seconds\" % (diff))"
   ]
  },
  {
   "cell_type": "markdown",
   "metadata": {},
   "source": [
    "Training - implicit model with BPR parameter --but not for iteration"
   ]
  },
  {
   "cell_type": "code",
   "execution_count": 15,
   "metadata": {},
   "outputs": [],
   "source": [
    "import torch\n",
    "torch.save(imodel, 'bpr_model')\n",
    "bpr_model = torch.load(\"bpr_model\")"
   ]
  },
  {
   "cell_type": "code",
   "execution_count": 16,
   "metadata": {},
   "outputs": [
    {
     "data": {
      "text/plain": [
       "<ImplicitFactorizationModel: BilinearNet(\n",
       "  (user_embeddings): ScaledEmbedding(279789, 32)\n",
       "  (item_embeddings): ScaledEmbedding(61286, 32)\n",
       "  (user_biases): ZeroEmbedding(279789, 1)\n",
       "  (item_biases): ZeroEmbedding(61286, 1)\n",
       ")>"
      ]
     },
     "execution_count": 16,
     "metadata": {},
     "output_type": "execute_result"
    }
   ],
   "source": [
    "bpr_model"
   ]
  },
  {
   "cell_type": "code",
   "execution_count": 17,
   "metadata": {},
   "outputs": [
    {
     "name": "stdout",
     "output_type": "stream",
     "text": [
      "[ 1.0979929   1.3855354   0.5076501  ... -0.26689515 -0.26815286\n",
      " -0.24741805]\n",
      "61286\n"
     ]
    }
   ],
   "source": [
    "print(bpr_model.predict(0))\n",
    "print(len(bpr_model.predict(0)))"
   ]
  },
  {
   "cell_type": "code",
   "execution_count": 18,
   "metadata": {},
   "outputs": [
    {
     "name": "stdout",
     "output_type": "stream",
     "text": [
      "B0002L5R78\n",
      "B0012S4APK\n",
      "B003L1ZYYM\n",
      "B000WYVBR0\n"
     ]
    }
   ],
   "source": [
    "import scipy.stats as st\n",
    "\n",
    "def tracksForUser(user, k=4):\n",
    "    ranks = st.rankdata(-bpr_model.predict(user))  \n",
    "    for iid in np.argwhere(ranks <= k):\n",
    "        print(iid_rev_map[iid.item(0)])\n",
    "\n",
    "tracksForUser(0)"
   ]
  },
  {
   "cell_type": "code",
   "execution_count": 19,
   "metadata": {},
   "outputs": [
    {
     "data": {
      "text/plain": [
       "product_id\n",
       "B00H2QUD9S    1\n",
       "Name: product_id, dtype: int64"
      ]
     },
     "execution_count": 19,
     "metadata": {},
     "output_type": "execute_result"
    }
   ],
   "source": [
    "df1[df1[\"customer_id\"]==uid_rev_map.get(1)].groupby(\"product_id\")[\"product_id\"].count()"
   ]
  },
  {
   "cell_type": "markdown",
   "metadata": {},
   "source": [
    "Evaluation"
   ]
  },
  {
   "cell_type": "code",
   "execution_count": 20,
   "metadata": {},
   "outputs": [],
   "source": [
    "def scoreAll(model):\n",
    "    scoresForAllUsers=[]\n",
    "    for uid in range(0,imodel._num_users):\n",
    "        scoresForAllUsers.append(imodel.predict(uid))\n",
    "    return scoresForAllUsers"
   ]
  },
  {
   "cell_type": "code",
   "execution_count": 21,
   "metadata": {},
   "outputs": [],
   "source": [
    "import scipy.stats as st\n",
    "#returns a numpy array of RR scores for each user.\n",
    "#parameter: testInteractions -- a test interaction dataset\n",
    "#parameter: predictions_for_each_user -- a list of numpy arrays of items scores for each user\n",
    "#parameter: cutoff - a rank cutoff for the MRR user. Default is 0, which means no cutoff.\n",
    "#parameter: train - the training data for the recommender - if set, it will not evaluate items that were part of the training data.\n",
    "def calc_reciprank(testInteractions, predictions_for_each_user, train=None, cutoff=0):\n",
    "\n",
    "    FLOAT_MAX = np.finfo(np.float32).max\n",
    "    assert testInteractions.num_users == len(predictions_for_each_user), \"mismatch: num users in Interactions %d, num users in predictions was %d\" % (testInteractions.num_users,len(predictions_for_each_user))\n",
    "    assert testInteractions.num_items == len(predictions_for_each_user[0]), \"mismatch: num items in Interactions %d, num items in predictions was %d\" % (testInteractions.num_items, len(predictions_for_each_user[0]))\n",
    "  \n",
    "    rrs = []\n",
    "  \n",
    "    if train is not None:\n",
    "        train = train.tocsr()\n",
    "    \n",
    "    i=-1\n",
    "    for user_id, row in enumerate(testInteractions.tocsr()):\n",
    "        i=i+1\n",
    "        if not len(row.indices):\n",
    "            rrs.append(0)\n",
    "            continue\n",
    "      \n",
    "        predictions = -predictions_for_each_user[i]\n",
    "    \n",
    "    #if train is set, remove the interactions from the training dataset\n",
    "        if train is not None:\n",
    "            predictions[train[user_id].indices] = FLOAT_MAX\n",
    "    \n",
    "        rank = st.rankdata(predictions)[row.indices].min()\n",
    "    \n",
    "    #we may have a rank cutoff\n",
    "        if cutoff > 0 and rank > cutoff:\n",
    "            rrs.append(0)\n",
    "            continue\n",
    "    \n",
    "        rrs.append(1.0 / rank)\n",
    "    return np.array(rrs)"
   ]
  },
  {
   "cell_type": "markdown",
   "metadata": {},
   "source": [
    "ERROR happens since here"
   ]
  },
  {
   "cell_type": "code",
   "execution_count": 85,
   "metadata": {},
   "outputs": [
    {
     "name": "stdout",
     "output_type": "stream",
     "text": [
      "Evaluation cost 5 seconds\n"
     ]
    }
   ],
   "source": [
    "import time\n",
    "from spotlight.evaluation import mrr_score\n",
    "start = time.time()\n",
    "mrr = mrr_score(imodel,itest)\n",
    "end = time.time()\n",
    "diff = end-start\n",
    "print('Evaluation cost %d seconds'% (diff))"
   ]
  },
  {
   "cell_type": "markdown",
   "metadata": {},
   "source": [
    "iteration: 300, dim: 64, 49274 users x 100 items, Training took 5545 seconds"
   ]
  },
  {
   "cell_type": "code",
   "execution_count": 86,
   "metadata": {},
   "outputs": [
    {
     "data": {
      "text/plain": [
       "0.09782865693671954"
      ]
     },
     "execution_count": 86,
     "metadata": {},
     "output_type": "execute_result"
    }
   ],
   "source": [
    "np.mean(mrr)"
   ]
  },
  {
   "cell_type": "markdown",
   "metadata": {},
   "source": [
    "iteration: 200, dim: 64, 49274 users x 100 items, Training took 3937 seconds"
   ]
  },
  {
   "cell_type": "code",
   "execution_count": 83,
   "metadata": {},
   "outputs": [
    {
     "data": {
      "text/plain": [
       "0.101119066871709"
      ]
     },
     "execution_count": 83,
     "metadata": {},
     "output_type": "execute_result"
    }
   ],
   "source": [
    "np.mean(mrr)"
   ]
  },
  {
   "cell_type": "markdown",
   "metadata": {},
   "source": [
    "iteration: 100, dim: 64, 49274 users x 100 items, Training took 2181 seconds"
   ]
  },
  {
   "cell_type": "code",
   "execution_count": 80,
   "metadata": {},
   "outputs": [
    {
     "data": {
      "text/plain": [
       "0.09788965582899394"
      ]
     },
     "execution_count": 80,
     "metadata": {},
     "output_type": "execute_result"
    }
   ],
   "source": [
    "np.mean(mrr)"
   ]
  },
  {
   "cell_type": "markdown",
   "metadata": {},
   "source": [
    "iteration: 200, dim: 64, 97381 users x 247 items, Training took 14273 seconds"
   ]
  },
  {
   "cell_type": "code",
   "execution_count": 38,
   "metadata": {},
   "outputs": [
    {
     "data": {
      "text/plain": [
       "0.0598975876405622"
      ]
     },
     "execution_count": 38,
     "metadata": {},
     "output_type": "execute_result"
    }
   ],
   "source": [
    "np.mean(mrr)"
   ]
  },
  {
   "cell_type": "markdown",
   "metadata": {},
   "source": [
    "iteration: 100, dim: 64, 97381 users x 247 items, Training took 8312 seconds"
   ]
  },
  {
   "cell_type": "code",
   "execution_count": 35,
   "metadata": {},
   "outputs": [
    {
     "data": {
      "text/plain": [
       "0.060146896149635774"
      ]
     },
     "execution_count": 35,
     "metadata": {},
     "output_type": "execute_result"
    }
   ],
   "source": [
    "np.mean(mrr)"
   ]
  },
  {
   "cell_type": "code",
   "execution_count": null,
   "metadata": {},
   "outputs": [],
   "source": [
    "iteration: 100, dim: 64, 117493 users x 248 items, Training took 11421 seconds"
   ]
  },
  {
   "cell_type": "code",
   "execution_count": 55,
   "metadata": {},
   "outputs": [
    {
     "data": {
      "text/plain": [
       "0.06203551412119327"
      ]
     },
     "execution_count": 55,
     "metadata": {},
     "output_type": "execute_result"
    }
   ],
   "source": [
    "np.mean(mrr)"
   ]
  },
  {
   "cell_type": "markdown",
   "metadata": {},
   "source": [
    "iteration = 1000, dim =32"
   ]
  },
  {
   "cell_type": "code",
   "execution_count": 33,
   "metadata": {},
   "outputs": [
    {
     "data": {
      "text/plain": [
       "0.02457670722678272"
      ]
     },
     "execution_count": 33,
     "metadata": {},
     "output_type": "execute_result"
    }
   ],
   "source": [
    "np.mean(mrr)"
   ]
  },
  {
   "cell_type": "markdown",
   "metadata": {},
   "source": [
    "iteration = 1000, dim =64"
   ]
  },
  {
   "cell_type": "code",
   "execution_count": 36,
   "metadata": {},
   "outputs": [
    {
     "data": {
      "text/plain": [
       "0.02457670722678272"
      ]
     },
     "execution_count": 36,
     "metadata": {},
     "output_type": "execute_result"
    }
   ],
   "source": [
    "np.mean(mrr)"
   ]
  },
  {
   "cell_type": "markdown",
   "metadata": {},
   "source": [
    "iteration = 500, dim = 64"
   ]
  },
  {
   "cell_type": "code",
   "execution_count": 30,
   "metadata": {},
   "outputs": [
    {
     "data": {
      "text/plain": [
       "0.04183405295243638"
      ]
     },
     "execution_count": 30,
     "metadata": {},
     "output_type": "execute_result"
    }
   ],
   "source": [
    "np.mean(mrr)"
   ]
  },
  {
   "cell_type": "markdown",
   "metadata": {},
   "source": [
    "iteration = 200, dim = 32"
   ]
  },
  {
   "cell_type": "code",
   "execution_count": 25,
   "metadata": {},
   "outputs": [
    {
     "name": "stdout",
     "output_type": "stream",
     "text": [
      "Evaluation cost 6 seconds\n"
     ]
    }
   ],
   "source": [
    "import time\n",
    "from spotlight.evaluation import mrr_score\n",
    "start = time.time()\n",
    "mrr = mrr_score(imodel,itest)\n",
    "end = time.time()\n",
    "diff = end-start\n",
    "print('Evaluation cost %d seconds'% (diff))"
   ]
  },
  {
   "cell_type": "code",
   "execution_count": 27,
   "metadata": {},
   "outputs": [
    {
     "data": {
      "text/plain": [
       "0.033059801075278304"
      ]
     },
     "execution_count": 27,
     "metadata": {},
     "output_type": "execute_result"
    }
   ],
   "source": [
    "np.mean(mrr)"
   ]
  },
  {
   "cell_type": "code",
   "execution_count": 15,
   "metadata": {},
   "outputs": [
    {
     "data": {
      "text/plain": [
       "<ImplicitFactorizationModel: BilinearNet(\n",
       "  (user_embeddings): ScaledEmbedding(532061, 32)\n",
       "  (item_embeddings): ScaledEmbedding(87298, 32)\n",
       "  (user_biases): ZeroEmbedding(532061, 1)\n",
       "  (item_biases): ZeroEmbedding(87298, 1)\n",
       ")>"
      ]
     },
     "execution_count": 15,
     "metadata": {},
     "output_type": "execute_result"
    }
   ],
   "source": [
    "imodel"
   ]
  },
  {
   "cell_type": "code",
   "execution_count": 16,
   "metadata": {},
   "outputs": [],
   "source": [
    "import torch\n",
    "torch.save(imodel, 'bpr_model_600000')\n",
    "bpr_model = torch.load(\"bpr_model\")"
   ]
  },
  {
   "cell_type": "code",
   "execution_count": 18,
   "metadata": {},
   "outputs": [],
   "source": [
    "test1, test2 = random_train_test_split(itest, test_percentage=0.2,random_state=np.random.seed(42))"
   ]
  },
  {
   "cell_type": "code",
   "execution_count": 22,
   "metadata": {},
   "outputs": [
    {
     "data": {
      "text/plain": [
       "<Interactions dataset (532061 users x 87298 items x 24000 interactions)>"
      ]
     },
     "execution_count": 22,
     "metadata": {},
     "output_type": "execute_result"
    }
   ],
   "source": [
    "test2"
   ]
  }
 ],
 "metadata": {
  "colab": {
   "collapsed_sections": [],
   "name": "SEQUENTIAL MODEL.ipynb",
   "provenance": [],
   "version": "0.3.2"
  },
  "kernelspec": {
   "display_name": "Python 3",
   "language": "python",
   "name": "python3"
  },
  "language_info": {
   "codemirror_mode": {
    "name": "ipython",
    "version": 3
   },
   "file_extension": ".py",
   "mimetype": "text/x-python",
   "name": "python",
   "nbconvert_exporter": "python",
   "pygments_lexer": "ipython3",
   "version": "3.7.1"
  }
 },
 "nbformat": 4,
 "nbformat_minor": 1
}
